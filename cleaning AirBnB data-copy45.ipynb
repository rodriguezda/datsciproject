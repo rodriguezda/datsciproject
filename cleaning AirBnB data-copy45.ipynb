{
 "cells": [
  {
   "cell_type": "code",
   "execution_count": 124,
   "metadata": {
    "collapsed": false
   },
   "outputs": [],
   "source": [
    "import numpy as np\n",
    "import pandas as pd\n",
    "from sklearn import cross_validation\n",
    "from sklearn import neighbors\n",
    "from sklearn import grid_search\n",
    "from sklearn import metrics\n",
    "from sklearn import linear_model\n",
    "\n",
    "import seaborn as sns\n",
    "import matplotlib.pyplot as plt\n",
    "sns.set(style=\"whitegrid\", font_scale=1)\n",
    "%matplotlib inline"
   ]
  },
  {
   "cell_type": "code",
   "execution_count": 125,
   "metadata": {
    "collapsed": false
   },
   "outputs": [
    {
     "data": {
      "text/html": [
       "<div>\n",
       "<table border=\"1\" class=\"dataframe\">\n",
       "  <thead>\n",
       "    <tr style=\"text-align: right;\">\n",
       "      <th></th>\n",
       "      <th>id</th>\n",
       "      <th>listing_url</th>\n",
       "      <th>scrape_id</th>\n",
       "      <th>last_scraped</th>\n",
       "      <th>name</th>\n",
       "      <th>summary</th>\n",
       "      <th>space</th>\n",
       "      <th>description</th>\n",
       "      <th>experiences_offered</th>\n",
       "      <th>neighborhood_overview</th>\n",
       "      <th>notes</th>\n",
       "      <th>transit</th>\n",
       "      <th>access</th>\n",
       "      <th>interaction</th>\n",
       "      <th>house_rules</th>\n",
       "      <th>thumbnail_url</th>\n",
       "      <th>medium_url</th>\n",
       "      <th>picture_url</th>\n",
       "      <th>xl_picture_url</th>\n",
       "      <th>host_id</th>\n",
       "      <th>host_url</th>\n",
       "      <th>host_name</th>\n",
       "      <th>host_since</th>\n",
       "      <th>host_location</th>\n",
       "      <th>host_about</th>\n",
       "      <th>host_response_time</th>\n",
       "      <th>host_response_rate</th>\n",
       "      <th>host_acceptance_rate</th>\n",
       "      <th>host_is_superhost</th>\n",
       "      <th>host_thumbnail_url</th>\n",
       "      <th>host_picture_url</th>\n",
       "      <th>host_neighbourhood</th>\n",
       "      <th>host_listings_count</th>\n",
       "      <th>host_total_listings_count</th>\n",
       "      <th>host_verifications</th>\n",
       "      <th>host_has_profile_pic</th>\n",
       "      <th>host_identity_verified</th>\n",
       "      <th>street</th>\n",
       "      <th>neighbourhood</th>\n",
       "      <th>neighbourhood_cleansed</th>\n",
       "      <th>neighbourhood_group_cleansed</th>\n",
       "      <th>city</th>\n",
       "      <th>state</th>\n",
       "      <th>zipcode</th>\n",
       "      <th>market</th>\n",
       "      <th>smart_location</th>\n",
       "      <th>country_code</th>\n",
       "      <th>country</th>\n",
       "      <th>latitude</th>\n",
       "      <th>longitude</th>\n",
       "      <th>is_location_exact</th>\n",
       "      <th>property_type</th>\n",
       "      <th>room_type</th>\n",
       "      <th>accommodates</th>\n",
       "      <th>bathrooms</th>\n",
       "      <th>bedrooms</th>\n",
       "      <th>beds</th>\n",
       "      <th>bed_type</th>\n",
       "      <th>amenities</th>\n",
       "      <th>square_feet</th>\n",
       "      <th>price</th>\n",
       "      <th>weekly_price</th>\n",
       "      <th>monthly_price</th>\n",
       "      <th>security_deposit</th>\n",
       "      <th>cleaning_fee</th>\n",
       "      <th>guests_included</th>\n",
       "      <th>extra_people</th>\n",
       "      <th>minimum_nights</th>\n",
       "      <th>maximum_nights</th>\n",
       "      <th>calendar_updated</th>\n",
       "      <th>has_availability</th>\n",
       "      <th>availability_30</th>\n",
       "      <th>availability_60</th>\n",
       "      <th>availability_90</th>\n",
       "      <th>availability_365</th>\n",
       "      <th>calendar_last_scraped</th>\n",
       "      <th>number_of_reviews</th>\n",
       "      <th>first_review</th>\n",
       "      <th>last_review</th>\n",
       "      <th>review_scores_rating</th>\n",
       "      <th>review_scores_accuracy</th>\n",
       "      <th>review_scores_cleanliness</th>\n",
       "      <th>review_scores_checkin</th>\n",
       "      <th>review_scores_communication</th>\n",
       "      <th>review_scores_location</th>\n",
       "      <th>review_scores_value</th>\n",
       "      <th>requires_license</th>\n",
       "      <th>license</th>\n",
       "      <th>jurisdiction_names</th>\n",
       "      <th>instant_bookable</th>\n",
       "      <th>cancellation_policy</th>\n",
       "      <th>require_guest_profile_picture</th>\n",
       "      <th>require_guest_phone_verification</th>\n",
       "      <th>calculated_host_listings_count</th>\n",
       "      <th>reviews_per_month</th>\n",
       "    </tr>\n",
       "  </thead>\n",
       "  <tbody>\n",
       "    <tr>\n",
       "      <th>0</th>\n",
       "      <td>9147025</td>\n",
       "      <td>https://www.airbnb.com/rooms/9147025</td>\n",
       "      <td>20160601225828</td>\n",
       "      <td>2016-06-02</td>\n",
       "      <td>Cozy City Island Cottage</td>\n",
       "      <td>City Island is a small community at the edge o...</td>\n",
       "      <td>This cozy little cottage is an open floor plan...</td>\n",
       "      <td>City Island is a small community at the edge o...</td>\n",
       "      <td>none</td>\n",
       "      <td>City Island is famous for it's seafood restaur...</td>\n",
       "      <td>NaN</td>\n",
       "      <td>City Island is a walkable Island. Everything i...</td>\n",
       "      <td>This is a whole private house on a charming qu...</td>\n",
       "      <td>I live close by and know the area well if you ...</td>\n",
       "      <td>No Smoking</td>\n",
       "      <td>https://a2.muscache.com/im/pictures/4e308401-5...</td>\n",
       "      <td>https://a2.muscache.com/im/pictures/4e308401-5...</td>\n",
       "      <td>https://a2.muscache.com/im/pictures/4e308401-5...</td>\n",
       "      <td>https://a2.muscache.com/im/pictures/4e308401-5...</td>\n",
       "      <td>403032</td>\n",
       "      <td>https://www.airbnb.com/users/show/403032</td>\n",
       "      <td>Diane</td>\n",
       "      <td>2011-02-21</td>\n",
       "      <td>New York, New York, United States</td>\n",
       "      <td>NaN</td>\n",
       "      <td>within a few hours</td>\n",
       "      <td>100%</td>\n",
       "      <td>80%</td>\n",
       "      <td>f</td>\n",
       "      <td>https://a2.muscache.com/im/pictures/dc275952-e...</td>\n",
       "      <td>https://a2.muscache.com/im/pictures/dc275952-e...</td>\n",
       "      <td>NaN</td>\n",
       "      <td>1.0</td>\n",
       "      <td>1.0</td>\n",
       "      <td>['email', 'phone', 'facebook', 'reviews']</td>\n",
       "      <td>t</td>\n",
       "      <td>f</td>\n",
       "      <td>Carroll Street, Bronx, NY 10464, United States</td>\n",
       "      <td>NaN</td>\n",
       "      <td>City Island</td>\n",
       "      <td>Bronx</td>\n",
       "      <td>Bronx</td>\n",
       "      <td>NY</td>\n",
       "      <td>10464</td>\n",
       "      <td>New York</td>\n",
       "      <td>Bronx, NY</td>\n",
       "      <td>US</td>\n",
       "      <td>United States</td>\n",
       "      <td>40.844870</td>\n",
       "      <td>-73.789541</td>\n",
       "      <td>f</td>\n",
       "      <td>House</td>\n",
       "      <td>Entire home/apt</td>\n",
       "      <td>2</td>\n",
       "      <td>1.0</td>\n",
       "      <td>0.0</td>\n",
       "      <td>1.0</td>\n",
       "      <td>Real Bed</td>\n",
       "      <td>{TV,\"Wireless Internet\",\"Air Conditioning\",Kit...</td>\n",
       "      <td>NaN</td>\n",
       "      <td>$95.00</td>\n",
       "      <td>$550.00</td>\n",
       "      <td>NaN</td>\n",
       "      <td>$500.00</td>\n",
       "      <td>$30.00</td>\n",
       "      <td>1</td>\n",
       "      <td>$0.00</td>\n",
       "      <td>1</td>\n",
       "      <td>1125</td>\n",
       "      <td>6 weeks ago</td>\n",
       "      <td>NaN</td>\n",
       "      <td>1</td>\n",
       "      <td>25</td>\n",
       "      <td>25</td>\n",
       "      <td>208</td>\n",
       "      <td>2016-06-02</td>\n",
       "      <td>9</td>\n",
       "      <td>2015-12-26</td>\n",
       "      <td>2016-04-24</td>\n",
       "      <td>91.0</td>\n",
       "      <td>9.0</td>\n",
       "      <td>9.0</td>\n",
       "      <td>9.0</td>\n",
       "      <td>9.0</td>\n",
       "      <td>10.0</td>\n",
       "      <td>9.0</td>\n",
       "      <td>f</td>\n",
       "      <td>NaN</td>\n",
       "      <td>NaN</td>\n",
       "      <td>f</td>\n",
       "      <td>moderate</td>\n",
       "      <td>f</td>\n",
       "      <td>f</td>\n",
       "      <td>1</td>\n",
       "      <td>1.69</td>\n",
       "    </tr>\n",
       "    <tr>\n",
       "      <th>1</th>\n",
       "      <td>6627449</td>\n",
       "      <td>https://www.airbnb.com/rooms/6627449</td>\n",
       "      <td>20160601225828</td>\n",
       "      <td>2016-06-02</td>\n",
       "      <td>Large 1 BDRM in Great location</td>\n",
       "      <td>This ground floor apartment is light and airy ...</td>\n",
       "      <td>We are close to fishing, boating, biking, hors...</td>\n",
       "      <td>This ground floor apartment is light and airy ...</td>\n",
       "      <td>none</td>\n",
       "      <td>City Island is a unique and a hidden gem of Ne...</td>\n",
       "      <td>There is off street parking in the apartment c...</td>\n",
       "      <td>We are (2) blocks from the BX29 bus which you ...</td>\n",
       "      <td>The entire apartment is available as I am only...</td>\n",
       "      <td>My daughter and her family live on the Island ...</td>\n",
       "      <td>There is no smoking and no pets.  Otherwise us...</td>\n",
       "      <td>https://a0.muscache.com/im/pictures/83539171/1...</td>\n",
       "      <td>https://a0.muscache.com/im/pictures/83539171/1...</td>\n",
       "      <td>https://a0.muscache.com/im/pictures/83539171/1...</td>\n",
       "      <td>https://a0.muscache.com/im/pictures/83539171/1...</td>\n",
       "      <td>13886510</td>\n",
       "      <td>https://www.airbnb.com/users/show/13886510</td>\n",
       "      <td>Arlene</td>\n",
       "      <td>2014-04-04</td>\n",
       "      <td>Los Angeles, California, United States</td>\n",
       "      <td>NaN</td>\n",
       "      <td>within a few hours</td>\n",
       "      <td>100%</td>\n",
       "      <td>100%</td>\n",
       "      <td>f</td>\n",
       "      <td>https://a1.muscache.com/im/users/13886510/prof...</td>\n",
       "      <td>https://a1.muscache.com/im/users/13886510/prof...</td>\n",
       "      <td>City Island</td>\n",
       "      <td>1.0</td>\n",
       "      <td>1.0</td>\n",
       "      <td>['email', 'phone', 'reviews', 'kba']</td>\n",
       "      <td>t</td>\n",
       "      <td>t</td>\n",
       "      <td>B Tier St, City Island, NY 10464, United States</td>\n",
       "      <td>City Island</td>\n",
       "      <td>City Island</td>\n",
       "      <td>Bronx</td>\n",
       "      <td>City Island</td>\n",
       "      <td>NY</td>\n",
       "      <td>10464</td>\n",
       "      <td>New York</td>\n",
       "      <td>City Island, NY</td>\n",
       "      <td>US</td>\n",
       "      <td>United States</td>\n",
       "      <td>40.849775</td>\n",
       "      <td>-73.786609</td>\n",
       "      <td>t</td>\n",
       "      <td>Apartment</td>\n",
       "      <td>Entire home/apt</td>\n",
       "      <td>3</td>\n",
       "      <td>1.0</td>\n",
       "      <td>1.0</td>\n",
       "      <td>1.0</td>\n",
       "      <td>Real Bed</td>\n",
       "      <td>{TV,\"Wireless Internet\",\"Air Conditioning\",Kit...</td>\n",
       "      <td>NaN</td>\n",
       "      <td>$125.00</td>\n",
       "      <td>$775.00</td>\n",
       "      <td>NaN</td>\n",
       "      <td>NaN</td>\n",
       "      <td>$75.00</td>\n",
       "      <td>1</td>\n",
       "      <td>$0.00</td>\n",
       "      <td>3</td>\n",
       "      <td>21</td>\n",
       "      <td>3 months ago</td>\n",
       "      <td>NaN</td>\n",
       "      <td>25</td>\n",
       "      <td>55</td>\n",
       "      <td>73</td>\n",
       "      <td>348</td>\n",
       "      <td>2016-06-02</td>\n",
       "      <td>9</td>\n",
       "      <td>2015-07-04</td>\n",
       "      <td>2016-05-06</td>\n",
       "      <td>91.0</td>\n",
       "      <td>10.0</td>\n",
       "      <td>10.0</td>\n",
       "      <td>10.0</td>\n",
       "      <td>10.0</td>\n",
       "      <td>10.0</td>\n",
       "      <td>9.0</td>\n",
       "      <td>f</td>\n",
       "      <td>NaN</td>\n",
       "      <td>NaN</td>\n",
       "      <td>f</td>\n",
       "      <td>flexible</td>\n",
       "      <td>f</td>\n",
       "      <td>f</td>\n",
       "      <td>1</td>\n",
       "      <td>0.81</td>\n",
       "    </tr>\n",
       "    <tr>\n",
       "      <th>2</th>\n",
       "      <td>11675715</td>\n",
       "      <td>https://www.airbnb.com/rooms/11675715</td>\n",
       "      <td>20160601225828</td>\n",
       "      <td>2016-06-02</td>\n",
       "      <td>Cozy 1 BR Basement Apartment</td>\n",
       "      <td>City Island is an active, year-round nautical ...</td>\n",
       "      <td>This very cozy apartment with features a queen...</td>\n",
       "      <td>City Island is an active, year-round nautical ...</td>\n",
       "      <td>none</td>\n",
       "      <td>City Island is a small island and a neighborho...</td>\n",
       "      <td>You have access to all Basic Cable Channels, S...</td>\n",
       "      <td>The easiest way to get to Manhattan quickly is...</td>\n",
       "      <td>The entire apartment is available. You are wel...</td>\n",
       "      <td>I live in the vicinity and know the area well,...</td>\n",
       "      <td>• Check-in time is 3PM.  Check-out time is 11:...</td>\n",
       "      <td>https://a2.muscache.com/im/pictures/55160e33-9...</td>\n",
       "      <td>https://a2.muscache.com/im/pictures/55160e33-9...</td>\n",
       "      <td>https://a2.muscache.com/im/pictures/55160e33-9...</td>\n",
       "      <td>https://a2.muscache.com/im/pictures/55160e33-9...</td>\n",
       "      <td>56714504</td>\n",
       "      <td>https://www.airbnb.com/users/show/56714504</td>\n",
       "      <td>Josue</td>\n",
       "      <td>2016-01-30</td>\n",
       "      <td>New York, New York, United States</td>\n",
       "      <td>I'm from NYC ,and love travelling and eco adve...</td>\n",
       "      <td>within an hour</td>\n",
       "      <td>100%</td>\n",
       "      <td>100%</td>\n",
       "      <td>f</td>\n",
       "      <td>https://a2.muscache.com/im/pictures/deff1bc3-a...</td>\n",
       "      <td>https://a2.muscache.com/im/pictures/deff1bc3-a...</td>\n",
       "      <td>City Island</td>\n",
       "      <td>1.0</td>\n",
       "      <td>1.0</td>\n",
       "      <td>['email', 'phone', 'facebook', 'google', 'revi...</td>\n",
       "      <td>t</td>\n",
       "      <td>t</td>\n",
       "      <td>King Avenue, City Island, NY 10464, United States</td>\n",
       "      <td>City Island</td>\n",
       "      <td>City Island</td>\n",
       "      <td>Bronx</td>\n",
       "      <td>City Island</td>\n",
       "      <td>NY</td>\n",
       "      <td>10464</td>\n",
       "      <td>New York</td>\n",
       "      <td>City Island, NY</td>\n",
       "      <td>US</td>\n",
       "      <td>United States</td>\n",
       "      <td>40.850376</td>\n",
       "      <td>-73.784681</td>\n",
       "      <td>t</td>\n",
       "      <td>House</td>\n",
       "      <td>Entire home/apt</td>\n",
       "      <td>4</td>\n",
       "      <td>1.0</td>\n",
       "      <td>1.0</td>\n",
       "      <td>2.0</td>\n",
       "      <td>Real Bed</td>\n",
       "      <td>{TV,\"Cable TV\",Internet,\"Wireless Internet\",\"A...</td>\n",
       "      <td>NaN</td>\n",
       "      <td>$79.00</td>\n",
       "      <td>NaN</td>\n",
       "      <td>NaN</td>\n",
       "      <td>NaN</td>\n",
       "      <td>$20.00</td>\n",
       "      <td>2</td>\n",
       "      <td>$10.00</td>\n",
       "      <td>1</td>\n",
       "      <td>1125</td>\n",
       "      <td>3 weeks ago</td>\n",
       "      <td>NaN</td>\n",
       "      <td>1</td>\n",
       "      <td>1</td>\n",
       "      <td>11</td>\n",
       "      <td>282</td>\n",
       "      <td>2016-06-02</td>\n",
       "      <td>11</td>\n",
       "      <td>2016-03-21</td>\n",
       "      <td>2016-05-18</td>\n",
       "      <td>96.0</td>\n",
       "      <td>10.0</td>\n",
       "      <td>10.0</td>\n",
       "      <td>10.0</td>\n",
       "      <td>10.0</td>\n",
       "      <td>10.0</td>\n",
       "      <td>10.0</td>\n",
       "      <td>f</td>\n",
       "      <td>NaN</td>\n",
       "      <td>NaN</td>\n",
       "      <td>t</td>\n",
       "      <td>flexible</td>\n",
       "      <td>f</td>\n",
       "      <td>f</td>\n",
       "      <td>1</td>\n",
       "      <td>4.46</td>\n",
       "    </tr>\n",
       "    <tr>\n",
       "      <th>3</th>\n",
       "      <td>8053533</td>\n",
       "      <td>https://www.airbnb.com/rooms/8053533</td>\n",
       "      <td>20160601225828</td>\n",
       "      <td>2016-06-02</td>\n",
       "      <td>Spacious Duplex Apartment</td>\n",
       "      <td>Duplex apartment with fireplace, two balconies...</td>\n",
       "      <td>NaN</td>\n",
       "      <td>Duplex apartment with fireplace, two balconies...</td>\n",
       "      <td>none</td>\n",
       "      <td>City Island is one of the gems of NYC.  We are...</td>\n",
       "      <td>PLEASE CONTACT ME FOR SPECIAL LONG TERM STAY P...</td>\n",
       "      <td>City Island is located in Long Island Sound, a...</td>\n",
       "      <td>All guests have access to the full apartment</td>\n",
       "      <td>NaN</td>\n",
       "      <td>No Smoking Please Recycle No Parties Pets are ...</td>\n",
       "      <td>https://a2.muscache.com/im/pictures/105174841/...</td>\n",
       "      <td>https://a2.muscache.com/im/pictures/105174841/...</td>\n",
       "      <td>https://a2.muscache.com/im/pictures/105174841/...</td>\n",
       "      <td>https://a2.muscache.com/im/pictures/105174841/...</td>\n",
       "      <td>42532507</td>\n",
       "      <td>https://www.airbnb.com/users/show/42532507</td>\n",
       "      <td>Rhokeisha</td>\n",
       "      <td>2015-08-25</td>\n",
       "      <td>New York, New York, United States</td>\n",
       "      <td>I really enjoy entertaining and spending time ...</td>\n",
       "      <td>within a few hours</td>\n",
       "      <td>67%</td>\n",
       "      <td>100%</td>\n",
       "      <td>f</td>\n",
       "      <td>https://a1.muscache.com/im/users/42532507/prof...</td>\n",
       "      <td>https://a1.muscache.com/im/users/42532507/prof...</td>\n",
       "      <td>NaN</td>\n",
       "      <td>1.0</td>\n",
       "      <td>1.0</td>\n",
       "      <td>['email', 'phone', 'facebook', 'reviews', 'kba']</td>\n",
       "      <td>t</td>\n",
       "      <td>t</td>\n",
       "      <td>Tier Street, Bronx, NY 10464, United States</td>\n",
       "      <td>NaN</td>\n",
       "      <td>City Island</td>\n",
       "      <td>Bronx</td>\n",
       "      <td>Bronx</td>\n",
       "      <td>NY</td>\n",
       "      <td>10464</td>\n",
       "      <td>New York</td>\n",
       "      <td>Bronx, NY</td>\n",
       "      <td>US</td>\n",
       "      <td>United States</td>\n",
       "      <td>40.848202</td>\n",
       "      <td>-73.789293</td>\n",
       "      <td>f</td>\n",
       "      <td>Condominium</td>\n",
       "      <td>Entire home/apt</td>\n",
       "      <td>5</td>\n",
       "      <td>2.5</td>\n",
       "      <td>2.0</td>\n",
       "      <td>2.0</td>\n",
       "      <td>Real Bed</td>\n",
       "      <td>{TV,\"Cable TV\",Internet,\"Wireless Internet\",\"A...</td>\n",
       "      <td>NaN</td>\n",
       "      <td>$179.00</td>\n",
       "      <td>$1,100.00</td>\n",
       "      <td>$4,000.00</td>\n",
       "      <td>NaN</td>\n",
       "      <td>$125.00</td>\n",
       "      <td>1</td>\n",
       "      <td>$30.00</td>\n",
       "      <td>3</td>\n",
       "      <td>1125</td>\n",
       "      <td>7 weeks ago</td>\n",
       "      <td>NaN</td>\n",
       "      <td>0</td>\n",
       "      <td>0</td>\n",
       "      <td>0</td>\n",
       "      <td>271</td>\n",
       "      <td>2016-06-02</td>\n",
       "      <td>5</td>\n",
       "      <td>2015-10-10</td>\n",
       "      <td>2016-04-13</td>\n",
       "      <td>100.0</td>\n",
       "      <td>10.0</td>\n",
       "      <td>9.0</td>\n",
       "      <td>10.0</td>\n",
       "      <td>10.0</td>\n",
       "      <td>10.0</td>\n",
       "      <td>10.0</td>\n",
       "      <td>f</td>\n",
       "      <td>NaN</td>\n",
       "      <td>NaN</td>\n",
       "      <td>t</td>\n",
       "      <td>flexible</td>\n",
       "      <td>f</td>\n",
       "      <td>f</td>\n",
       "      <td>1</td>\n",
       "      <td>0.63</td>\n",
       "    </tr>\n",
       "    <tr>\n",
       "      <th>4</th>\n",
       "      <td>1886820</td>\n",
       "      <td>https://www.airbnb.com/rooms/1886820</td>\n",
       "      <td>20160601225828</td>\n",
       "      <td>2016-06-02</td>\n",
       "      <td>Quaint City Island Community.</td>\n",
       "      <td>Quiet island  boating town on Long Island Soun...</td>\n",
       "      <td>Master bed with queen bed, full bath and offi...</td>\n",
       "      <td>Quiet island  boating town on Long Island Soun...</td>\n",
       "      <td>none</td>\n",
       "      <td>Small New England type town in the middle of ...</td>\n",
       "      <td>NaN</td>\n",
       "      <td>Parking available in driveway.  Bus stop aroun...</td>\n",
       "      <td>2 story 1800 sq ft house all to yourselves.</td>\n",
       "      <td>Local caretaker available during stay. We will...</td>\n",
       "      <td>No smoking.  No pets.  This is our private hom...</td>\n",
       "      <td>https://a0.muscache.com/im/pictures/26266928/1...</td>\n",
       "      <td>https://a0.muscache.com/im/pictures/26266928/1...</td>\n",
       "      <td>https://a0.muscache.com/im/pictures/26266928/1...</td>\n",
       "      <td>https://a0.muscache.com/im/pictures/26266928/1...</td>\n",
       "      <td>9815788</td>\n",
       "      <td>https://www.airbnb.com/users/show/9815788</td>\n",
       "      <td>Steve</td>\n",
       "      <td>2013-11-04</td>\n",
       "      <td>US</td>\n",
       "      <td>NaN</td>\n",
       "      <td>NaN</td>\n",
       "      <td>NaN</td>\n",
       "      <td>NaN</td>\n",
       "      <td>f</td>\n",
       "      <td>https://a1.muscache.com/im/users/9815788/profi...</td>\n",
       "      <td>https://a1.muscache.com/im/users/9815788/profi...</td>\n",
       "      <td>City Island</td>\n",
       "      <td>1.0</td>\n",
       "      <td>1.0</td>\n",
       "      <td>['email', 'phone']</td>\n",
       "      <td>t</td>\n",
       "      <td>f</td>\n",
       "      <td>Horton Street, Bronx, NY 10464, United States</td>\n",
       "      <td>City Island</td>\n",
       "      <td>City Island</td>\n",
       "      <td>Bronx</td>\n",
       "      <td>Bronx</td>\n",
       "      <td>NY</td>\n",
       "      <td>10464</td>\n",
       "      <td>New York</td>\n",
       "      <td>Bronx, NY</td>\n",
       "      <td>US</td>\n",
       "      <td>United States</td>\n",
       "      <td>40.841144</td>\n",
       "      <td>-73.783052</td>\n",
       "      <td>t</td>\n",
       "      <td>House</td>\n",
       "      <td>Entire home/apt</td>\n",
       "      <td>4</td>\n",
       "      <td>3.0</td>\n",
       "      <td>3.0</td>\n",
       "      <td>3.0</td>\n",
       "      <td>Real Bed</td>\n",
       "      <td>{TV,\"Cable TV\",Internet,\"Wireless Internet\",\"A...</td>\n",
       "      <td>NaN</td>\n",
       "      <td>$300.00</td>\n",
       "      <td>NaN</td>\n",
       "      <td>NaN</td>\n",
       "      <td>$800.00</td>\n",
       "      <td>$100.00</td>\n",
       "      <td>4</td>\n",
       "      <td>$25.00</td>\n",
       "      <td>7</td>\n",
       "      <td>90</td>\n",
       "      <td>9 months ago</td>\n",
       "      <td>NaN</td>\n",
       "      <td>30</td>\n",
       "      <td>60</td>\n",
       "      <td>90</td>\n",
       "      <td>365</td>\n",
       "      <td>2016-06-02</td>\n",
       "      <td>0</td>\n",
       "      <td>NaN</td>\n",
       "      <td>NaN</td>\n",
       "      <td>NaN</td>\n",
       "      <td>NaN</td>\n",
       "      <td>NaN</td>\n",
       "      <td>NaN</td>\n",
       "      <td>NaN</td>\n",
       "      <td>NaN</td>\n",
       "      <td>NaN</td>\n",
       "      <td>f</td>\n",
       "      <td>NaN</td>\n",
       "      <td>NaN</td>\n",
       "      <td>f</td>\n",
       "      <td>strict</td>\n",
       "      <td>f</td>\n",
       "      <td>f</td>\n",
       "      <td>1</td>\n",
       "      <td>NaN</td>\n",
       "    </tr>\n",
       "  </tbody>\n",
       "</table>\n",
       "</div>"
      ],
      "text/plain": [
       "         id                            listing_url       scrape_id  \\\n",
       "0   9147025   https://www.airbnb.com/rooms/9147025  20160601225828   \n",
       "1   6627449   https://www.airbnb.com/rooms/6627449  20160601225828   \n",
       "2  11675715  https://www.airbnb.com/rooms/11675715  20160601225828   \n",
       "3   8053533   https://www.airbnb.com/rooms/8053533  20160601225828   \n",
       "4   1886820   https://www.airbnb.com/rooms/1886820  20160601225828   \n",
       "\n",
       "  last_scraped                            name  \\\n",
       "0   2016-06-02        Cozy City Island Cottage   \n",
       "1   2016-06-02  Large 1 BDRM in Great location   \n",
       "2   2016-06-02    Cozy 1 BR Basement Apartment   \n",
       "3   2016-06-02       Spacious Duplex Apartment   \n",
       "4   2016-06-02  Quaint City Island Community.    \n",
       "\n",
       "                                             summary  \\\n",
       "0  City Island is a small community at the edge o...   \n",
       "1  This ground floor apartment is light and airy ...   \n",
       "2  City Island is an active, year-round nautical ...   \n",
       "3  Duplex apartment with fireplace, two balconies...   \n",
       "4  Quiet island  boating town on Long Island Soun...   \n",
       "\n",
       "                                               space  \\\n",
       "0  This cozy little cottage is an open floor plan...   \n",
       "1  We are close to fishing, boating, biking, hors...   \n",
       "2  This very cozy apartment with features a queen...   \n",
       "3                                                NaN   \n",
       "4   Master bed with queen bed, full bath and offi...   \n",
       "\n",
       "                                         description experiences_offered  \\\n",
       "0  City Island is a small community at the edge o...                none   \n",
       "1  This ground floor apartment is light and airy ...                none   \n",
       "2  City Island is an active, year-round nautical ...                none   \n",
       "3  Duplex apartment with fireplace, two balconies...                none   \n",
       "4  Quiet island  boating town on Long Island Soun...                none   \n",
       "\n",
       "                               neighborhood_overview  \\\n",
       "0  City Island is famous for it's seafood restaur...   \n",
       "1  City Island is a unique and a hidden gem of Ne...   \n",
       "2  City Island is a small island and a neighborho...   \n",
       "3  City Island is one of the gems of NYC.  We are...   \n",
       "4   Small New England type town in the middle of ...   \n",
       "\n",
       "                                               notes  \\\n",
       "0                                                NaN   \n",
       "1  There is off street parking in the apartment c...   \n",
       "2  You have access to all Basic Cable Channels, S...   \n",
       "3  PLEASE CONTACT ME FOR SPECIAL LONG TERM STAY P...   \n",
       "4                                                NaN   \n",
       "\n",
       "                                             transit  \\\n",
       "0  City Island is a walkable Island. Everything i...   \n",
       "1  We are (2) blocks from the BX29 bus which you ...   \n",
       "2  The easiest way to get to Manhattan quickly is...   \n",
       "3  City Island is located in Long Island Sound, a...   \n",
       "4  Parking available in driveway.  Bus stop aroun...   \n",
       "\n",
       "                                              access  \\\n",
       "0  This is a whole private house on a charming qu...   \n",
       "1  The entire apartment is available as I am only...   \n",
       "2  The entire apartment is available. You are wel...   \n",
       "3       All guests have access to the full apartment   \n",
       "4       2 story 1800 sq ft house all to yourselves.    \n",
       "\n",
       "                                         interaction  \\\n",
       "0  I live close by and know the area well if you ...   \n",
       "1  My daughter and her family live on the Island ...   \n",
       "2  I live in the vicinity and know the area well,...   \n",
       "3                                                NaN   \n",
       "4  Local caretaker available during stay. We will...   \n",
       "\n",
       "                                         house_rules  \\\n",
       "0                                         No Smoking   \n",
       "1  There is no smoking and no pets.  Otherwise us...   \n",
       "2  • Check-in time is 3PM.  Check-out time is 11:...   \n",
       "3  No Smoking Please Recycle No Parties Pets are ...   \n",
       "4  No smoking.  No pets.  This is our private hom...   \n",
       "\n",
       "                                       thumbnail_url  \\\n",
       "0  https://a2.muscache.com/im/pictures/4e308401-5...   \n",
       "1  https://a0.muscache.com/im/pictures/83539171/1...   \n",
       "2  https://a2.muscache.com/im/pictures/55160e33-9...   \n",
       "3  https://a2.muscache.com/im/pictures/105174841/...   \n",
       "4  https://a0.muscache.com/im/pictures/26266928/1...   \n",
       "\n",
       "                                          medium_url  \\\n",
       "0  https://a2.muscache.com/im/pictures/4e308401-5...   \n",
       "1  https://a0.muscache.com/im/pictures/83539171/1...   \n",
       "2  https://a2.muscache.com/im/pictures/55160e33-9...   \n",
       "3  https://a2.muscache.com/im/pictures/105174841/...   \n",
       "4  https://a0.muscache.com/im/pictures/26266928/1...   \n",
       "\n",
       "                                         picture_url  \\\n",
       "0  https://a2.muscache.com/im/pictures/4e308401-5...   \n",
       "1  https://a0.muscache.com/im/pictures/83539171/1...   \n",
       "2  https://a2.muscache.com/im/pictures/55160e33-9...   \n",
       "3  https://a2.muscache.com/im/pictures/105174841/...   \n",
       "4  https://a0.muscache.com/im/pictures/26266928/1...   \n",
       "\n",
       "                                      xl_picture_url   host_id  \\\n",
       "0  https://a2.muscache.com/im/pictures/4e308401-5...    403032   \n",
       "1  https://a0.muscache.com/im/pictures/83539171/1...  13886510   \n",
       "2  https://a2.muscache.com/im/pictures/55160e33-9...  56714504   \n",
       "3  https://a2.muscache.com/im/pictures/105174841/...  42532507   \n",
       "4  https://a0.muscache.com/im/pictures/26266928/1...   9815788   \n",
       "\n",
       "                                     host_url  host_name  host_since  \\\n",
       "0    https://www.airbnb.com/users/show/403032      Diane  2011-02-21   \n",
       "1  https://www.airbnb.com/users/show/13886510     Arlene  2014-04-04   \n",
       "2  https://www.airbnb.com/users/show/56714504      Josue  2016-01-30   \n",
       "3  https://www.airbnb.com/users/show/42532507  Rhokeisha  2015-08-25   \n",
       "4   https://www.airbnb.com/users/show/9815788      Steve  2013-11-04   \n",
       "\n",
       "                            host_location  \\\n",
       "0       New York, New York, United States   \n",
       "1  Los Angeles, California, United States   \n",
       "2       New York, New York, United States   \n",
       "3       New York, New York, United States   \n",
       "4                                      US   \n",
       "\n",
       "                                          host_about  host_response_time  \\\n",
       "0                                                NaN  within a few hours   \n",
       "1                                                NaN  within a few hours   \n",
       "2  I'm from NYC ,and love travelling and eco adve...      within an hour   \n",
       "3  I really enjoy entertaining and spending time ...  within a few hours   \n",
       "4                                                NaN                 NaN   \n",
       "\n",
       "  host_response_rate host_acceptance_rate host_is_superhost  \\\n",
       "0               100%                  80%                 f   \n",
       "1               100%                 100%                 f   \n",
       "2               100%                 100%                 f   \n",
       "3                67%                 100%                 f   \n",
       "4                NaN                  NaN                 f   \n",
       "\n",
       "                                  host_thumbnail_url  \\\n",
       "0  https://a2.muscache.com/im/pictures/dc275952-e...   \n",
       "1  https://a1.muscache.com/im/users/13886510/prof...   \n",
       "2  https://a2.muscache.com/im/pictures/deff1bc3-a...   \n",
       "3  https://a1.muscache.com/im/users/42532507/prof...   \n",
       "4  https://a1.muscache.com/im/users/9815788/profi...   \n",
       "\n",
       "                                    host_picture_url host_neighbourhood  \\\n",
       "0  https://a2.muscache.com/im/pictures/dc275952-e...                NaN   \n",
       "1  https://a1.muscache.com/im/users/13886510/prof...        City Island   \n",
       "2  https://a2.muscache.com/im/pictures/deff1bc3-a...        City Island   \n",
       "3  https://a1.muscache.com/im/users/42532507/prof...                NaN   \n",
       "4  https://a1.muscache.com/im/users/9815788/profi...        City Island   \n",
       "\n",
       "   host_listings_count  host_total_listings_count  \\\n",
       "0                  1.0                        1.0   \n",
       "1                  1.0                        1.0   \n",
       "2                  1.0                        1.0   \n",
       "3                  1.0                        1.0   \n",
       "4                  1.0                        1.0   \n",
       "\n",
       "                                  host_verifications host_has_profile_pic  \\\n",
       "0          ['email', 'phone', 'facebook', 'reviews']                    t   \n",
       "1               ['email', 'phone', 'reviews', 'kba']                    t   \n",
       "2  ['email', 'phone', 'facebook', 'google', 'revi...                    t   \n",
       "3   ['email', 'phone', 'facebook', 'reviews', 'kba']                    t   \n",
       "4                                 ['email', 'phone']                    t   \n",
       "\n",
       "  host_identity_verified                                             street  \\\n",
       "0                      f     Carroll Street, Bronx, NY 10464, United States   \n",
       "1                      t    B Tier St, City Island, NY 10464, United States   \n",
       "2                      t  King Avenue, City Island, NY 10464, United States   \n",
       "3                      t        Tier Street, Bronx, NY 10464, United States   \n",
       "4                      f      Horton Street, Bronx, NY 10464, United States   \n",
       "\n",
       "  neighbourhood neighbourhood_cleansed neighbourhood_group_cleansed  \\\n",
       "0           NaN            City Island                        Bronx   \n",
       "1   City Island            City Island                        Bronx   \n",
       "2   City Island            City Island                        Bronx   \n",
       "3           NaN            City Island                        Bronx   \n",
       "4   City Island            City Island                        Bronx   \n",
       "\n",
       "          city state zipcode    market   smart_location country_code  \\\n",
       "0        Bronx    NY   10464  New York        Bronx, NY           US   \n",
       "1  City Island    NY   10464  New York  City Island, NY           US   \n",
       "2  City Island    NY   10464  New York  City Island, NY           US   \n",
       "3        Bronx    NY   10464  New York        Bronx, NY           US   \n",
       "4        Bronx    NY   10464  New York        Bronx, NY           US   \n",
       "\n",
       "         country   latitude  longitude is_location_exact property_type  \\\n",
       "0  United States  40.844870 -73.789541                 f         House   \n",
       "1  United States  40.849775 -73.786609                 t     Apartment   \n",
       "2  United States  40.850376 -73.784681                 t         House   \n",
       "3  United States  40.848202 -73.789293                 f   Condominium   \n",
       "4  United States  40.841144 -73.783052                 t         House   \n",
       "\n",
       "         room_type  accommodates  bathrooms  bedrooms  beds  bed_type  \\\n",
       "0  Entire home/apt             2        1.0       0.0   1.0  Real Bed   \n",
       "1  Entire home/apt             3        1.0       1.0   1.0  Real Bed   \n",
       "2  Entire home/apt             4        1.0       1.0   2.0  Real Bed   \n",
       "3  Entire home/apt             5        2.5       2.0   2.0  Real Bed   \n",
       "4  Entire home/apt             4        3.0       3.0   3.0  Real Bed   \n",
       "\n",
       "                                           amenities  square_feet    price  \\\n",
       "0  {TV,\"Wireless Internet\",\"Air Conditioning\",Kit...          NaN   $95.00   \n",
       "1  {TV,\"Wireless Internet\",\"Air Conditioning\",Kit...          NaN  $125.00   \n",
       "2  {TV,\"Cable TV\",Internet,\"Wireless Internet\",\"A...          NaN   $79.00   \n",
       "3  {TV,\"Cable TV\",Internet,\"Wireless Internet\",\"A...          NaN  $179.00   \n",
       "4  {TV,\"Cable TV\",Internet,\"Wireless Internet\",\"A...          NaN  $300.00   \n",
       "\n",
       "  weekly_price monthly_price security_deposit cleaning_fee  guests_included  \\\n",
       "0      $550.00           NaN          $500.00       $30.00                1   \n",
       "1      $775.00           NaN              NaN       $75.00                1   \n",
       "2          NaN           NaN              NaN       $20.00                2   \n",
       "3    $1,100.00     $4,000.00              NaN      $125.00                1   \n",
       "4          NaN           NaN          $800.00      $100.00                4   \n",
       "\n",
       "  extra_people  minimum_nights  maximum_nights calendar_updated  \\\n",
       "0        $0.00               1            1125      6 weeks ago   \n",
       "1        $0.00               3              21     3 months ago   \n",
       "2       $10.00               1            1125      3 weeks ago   \n",
       "3       $30.00               3            1125      7 weeks ago   \n",
       "4       $25.00               7              90     9 months ago   \n",
       "\n",
       "   has_availability  availability_30  availability_60  availability_90  \\\n",
       "0               NaN                1               25               25   \n",
       "1               NaN               25               55               73   \n",
       "2               NaN                1                1               11   \n",
       "3               NaN                0                0                0   \n",
       "4               NaN               30               60               90   \n",
       "\n",
       "   availability_365 calendar_last_scraped  number_of_reviews first_review  \\\n",
       "0               208            2016-06-02                  9   2015-12-26   \n",
       "1               348            2016-06-02                  9   2015-07-04   \n",
       "2               282            2016-06-02                 11   2016-03-21   \n",
       "3               271            2016-06-02                  5   2015-10-10   \n",
       "4               365            2016-06-02                  0          NaN   \n",
       "\n",
       "  last_review  review_scores_rating  review_scores_accuracy  \\\n",
       "0  2016-04-24                  91.0                     9.0   \n",
       "1  2016-05-06                  91.0                    10.0   \n",
       "2  2016-05-18                  96.0                    10.0   \n",
       "3  2016-04-13                 100.0                    10.0   \n",
       "4         NaN                   NaN                     NaN   \n",
       "\n",
       "   review_scores_cleanliness  review_scores_checkin  \\\n",
       "0                        9.0                    9.0   \n",
       "1                       10.0                   10.0   \n",
       "2                       10.0                   10.0   \n",
       "3                        9.0                   10.0   \n",
       "4                        NaN                    NaN   \n",
       "\n",
       "   review_scores_communication  review_scores_location  review_scores_value  \\\n",
       "0                          9.0                    10.0                  9.0   \n",
       "1                         10.0                    10.0                  9.0   \n",
       "2                         10.0                    10.0                 10.0   \n",
       "3                         10.0                    10.0                 10.0   \n",
       "4                          NaN                     NaN                  NaN   \n",
       "\n",
       "  requires_license  license jurisdiction_names instant_bookable  \\\n",
       "0                f      NaN                NaN                f   \n",
       "1                f      NaN                NaN                f   \n",
       "2                f      NaN                NaN                t   \n",
       "3                f      NaN                NaN                t   \n",
       "4                f      NaN                NaN                f   \n",
       "\n",
       "  cancellation_policy require_guest_profile_picture  \\\n",
       "0            moderate                             f   \n",
       "1            flexible                             f   \n",
       "2            flexible                             f   \n",
       "3            flexible                             f   \n",
       "4              strict                             f   \n",
       "\n",
       "  require_guest_phone_verification  calculated_host_listings_count  \\\n",
       "0                                f                               1   \n",
       "1                                f                               1   \n",
       "2                                f                               1   \n",
       "3                                f                               1   \n",
       "4                                f                               1   \n",
       "\n",
       "   reviews_per_month  \n",
       "0               1.69  \n",
       "1               0.81  \n",
       "2               4.46  \n",
       "3               0.63  \n",
       "4                NaN  "
      ]
     },
     "execution_count": 125,
     "metadata": {},
     "output_type": "execute_result"
    }
   ],
   "source": [
    "#acquire the data\n",
    "\n",
    "# Load data\n",
    "data = pd.read_csv('listings.csv',sep=',')\n",
    "data.head()"
   ]
  },
  {
   "cell_type": "code",
   "execution_count": 126,
   "metadata": {
    "collapsed": true
   },
   "outputs": [],
   "source": [
    "pd.set_option('display.max_columns', 99)\n",
    "pd.set_option('display.max_rows', 100)"
   ]
  },
  {
   "cell_type": "code",
   "execution_count": 127,
   "metadata": {
    "collapsed": false
   },
   "outputs": [],
   "source": [
    "def wrangler(data):\n",
    "    data = data.drop(['access','calendar_last_scraped','calendar_updated','city',\n",
    "'cleaning_fee','description','experiences_offered','first_review','has_availability',\n",
    "'host_about','host_identity_verified', 'host_location','host_name',\n",
    "'host_neighbourhood','host_picture_url', 'host_response_time',\n",
    "'host_thumbnail_url','host_url','host_verifications','house_rules','interaction',\n",
    "'jurisdiction_names','last_review','last_scraped','license','listing_url','medium_url','monthly_price',\n",
    "'name','neighborhood_overview','neighbourhood','notes','picture_url',\n",
    "'require_guest_phone_verification','require_guest_profile_picture','requires_license',\n",
    "'review_scores_accuracy','review_scores_checkin','review_scores_cleanliness',\n",
    "'review_scores_communication','review_scores_location','review_scores_rating',\n",
    "'review_scores_value','reviews_per_month','scrape_id','security_deposit','space',\n",
    "'square_feet','state','street','summary','thumbnail_url','transit','weekly_price',\n",
    "'xl_picture_url'], axis=1)\n",
    "    \n",
    "    return data"
   ]
  },
  {
   "cell_type": "code",
   "execution_count": 128,
   "metadata": {
    "collapsed": false
   },
   "outputs": [],
   "source": [
    "data = wrangler(data)"
   ]
  },
  {
   "cell_type": "code",
   "execution_count": 129,
   "metadata": {
    "collapsed": false
   },
   "outputs": [],
   "source": [
    "# Processing room_type\n",
    "#will work for Series with unique strings that are less than 1,000\n",
    "\n",
    "# Get list of all unique values\n",
    "room = sorted(set(data['room_type']))\n",
    "\n",
    "# Create dictionary mapping each unique value to a numeric value\n",
    "room_type_dict = {}\n",
    "for v, k in enumerate(room):\n",
    "    room_type_dict[k] = v\n",
    "\n",
    "# Replace using dictionary\n",
    "data = data.replace({'room_type': room_type_dict})"
   ]
  },
  {
   "cell_type": "code",
   "execution_count": 130,
   "metadata": {
    "collapsed": false
   },
   "outputs": [],
   "source": [
    "# Processing zipcode\n",
    "#will work for Series with unique strings that are less than 1,000\n",
    "\n",
    "# Get list of all unique values\n",
    "zip = sorted(set(data['zipcode']))\n",
    "\n",
    "# Create dictionary mapping each unique value to a numeric value\n",
    "zipcode_dict = {}\n",
    "for v, k in enumerate(zip):\n",
    "    zipcode_dict[k] = v\n",
    "\n",
    "# Replace using dictionary\n",
    "data = data.replace({'zipcode': zipcode_dict})"
   ]
  },
  {
   "cell_type": "code",
   "execution_count": 131,
   "metadata": {
    "collapsed": true
   },
   "outputs": [],
   "source": [
    "# Processing neighbourhood_cleansed\n",
    "#will work for Series with unique strings that are less than 1,000\n",
    "\n",
    "# Get list of all unique values\n",
    "neighbourhood = sorted(set(data['neighbourhood_cleansed']))\n",
    "\n",
    "# Create dictionary mapping each unique value to a numeric value\n",
    "neighbourhood_cleansed_dict = {}\n",
    "for v, k in enumerate(neighbourhood):\n",
    "    neighbourhood_cleansed_dict[k] = v\n",
    "\n",
    "# Replace using dictionary\n",
    "data = data.replace({'neighbourhood_cleansed': neighbourhood_cleansed_dict})"
   ]
  },
  {
   "cell_type": "code",
   "execution_count": 132,
   "metadata": {
    "collapsed": false
   },
   "outputs": [],
   "source": [
    "# Processing host_acceptance_rate\n",
    "#will work for Series with unique strings that are less than 1,000\n",
    "\n",
    "# Get list of all unique values\n",
    "acceptance_rate = sorted(set(data['host_acceptance_rate']))\n",
    "\n",
    "# Create dictionary mapping each unique value to a numeric value\n",
    "host_acceptance_rate_dict = {}\n",
    "for v, k in enumerate(acceptance_rate):\n",
    "    host_acceptance_rate_dict[k] = v\n",
    "\n",
    "# Replace using dictionary\n",
    "data = data.replace({'host_acceptance_rate': host_acceptance_rate_dict})\n",
    "\n"
   ]
  },
  {
   "cell_type": "code",
   "execution_count": 133,
   "metadata": {
    "collapsed": false
   },
   "outputs": [],
   "source": [
    "#Processing host_response_rate\n",
    "#will work for Series with unique strings that are less than 1,000\n",
    "\n",
    "resp_rate = sorted(set(data['host_response_rate']))\n",
    "\n",
    "# Create dictionary mapping each unique value to a numeric value\n",
    "\n",
    "resp_rate_dict = {}\n",
    "for v, k in enumerate(resp_rate):\n",
    "    resp_rate_dict[k] = v\n",
    "    \n",
    "# Replace using dictionary\n",
    "data = data.replace({'host_response_rate': resp_rate_dict})\n",
    "\n"
   ]
  },
  {
   "cell_type": "code",
   "execution_count": 134,
   "metadata": {
    "collapsed": true
   },
   "outputs": [],
   "source": [
    "# Processing cancellation_policy\n",
    "#will work for Series with unique strings that are less than 1,000\n",
    "\n",
    "# Get list of all unique values\n",
    "cancellation = sorted(set(data['cancellation_policy']))\n",
    "\n",
    "# Create dictionary mapping each unique value to a numeric value\n",
    "cancellation_policy_dict = {}\n",
    "for v, k in enumerate(cancellation):\n",
    "    cancellation_policy_dict[k] = v\n",
    "\n",
    "# Replace using dictionary\n",
    "data = data.replace({'cancellation_policy': cancellation_policy_dict})"
   ]
  },
  {
   "cell_type": "code",
   "execution_count": 135,
   "metadata": {
    "collapsed": true
   },
   "outputs": [],
   "source": [
    "# Processing property_type\n",
    "#will work for Series with unique strings that are less than 1,000\n",
    "\n",
    "# Get list of all unique values\n",
    "u = sorted(set(data['property_type']))\n",
    "\n",
    "# Create dictionary mapping each unique value to a numeric value\n",
    "property_type_dict = {}\n",
    "for v, k in enumerate(u):\n",
    "    property_type_dict[k] = v\n",
    "\n",
    "# Replace using dictionary\n",
    "data = data.replace({'property_type': property_type_dict})"
   ]
  },
  {
   "cell_type": "code",
   "execution_count": 136,
   "metadata": {
    "collapsed": false
   },
   "outputs": [
    {
     "name": "stdout",
     "output_type": "stream",
     "text": [
      "[]\n"
     ]
    }
   ],
   "source": [
    "# Get counts for missing values in each column\n",
    "missing_values = data.isnull().sum()\n",
    "# # Get columns with too many missing values (more than 40%)\n",
    "colums_with_too_many_missing_values = list(missing_values[missing_values > len(data)*0.2].index)\n",
    "\n",
    "print colums_with_too_many_missing_values"
   ]
  },
  {
   "cell_type": "code",
   "execution_count": 137,
   "metadata": {
    "collapsed": false
   },
   "outputs": [
    {
     "data": {
      "text/plain": [
       "(35472, 40)"
      ]
     },
     "execution_count": 137,
     "metadata": {},
     "output_type": "execute_result"
    }
   ],
   "source": [
    "data.dropna(how='any').shape"
   ]
  },
  {
   "cell_type": "code",
   "execution_count": 138,
   "metadata": {
    "collapsed": false
   },
   "outputs": [
    {
     "data": {
      "text/plain": [
       "\"['id','host_id','host_acceptance_rate',\\n       'host_is_superhost','host_listings_count',\\n       'host_total_listings_count','neighbourhood_cleansed','zipcode',\\n       'latitude','is_location_exact',\\n       'longitude','property_type','room_type',\\n       'accommodates','bathrooms','bedrooms','beds','price','guests_included','extra_people',\\n       'minimum_nights','maximum_nights','availability_30',\\n       'availability_60','availability_90','availability_365',\\n       'number_of_reviews','instant_bookable','cancellation_policy',\\n       'calculated_host_listings_count']\""
      ]
     },
     "execution_count": 138,
     "metadata": {},
     "output_type": "execute_result"
    }
   ],
   "source": [
    "'''['id','host_id','host_acceptance_rate',\n",
    "       'host_is_superhost','host_listings_count',\n",
    "       'host_total_listings_count','neighbourhood_cleansed','zipcode',\n",
    "       'latitude','is_location_exact',\n",
    "       'longitude','property_type','room_type',\n",
    "       'accommodates','bathrooms','bedrooms','beds','price','guests_included','extra_people',\n",
    "       'minimum_nights','maximum_nights','availability_30',\n",
    "       'availability_60','availability_90','availability_365',\n",
    "       'number_of_reviews','instant_bookable','cancellation_policy',\n",
    "       'calculated_host_listings_count']'''"
   ]
  },
  {
   "cell_type": "code",
   "execution_count": 139,
   "metadata": {
    "collapsed": true
   },
   "outputs": [],
   "source": [
    "# Set features to use\n",
    "features = ['host_acceptance_rate','host_listings_count', 'host_response_rate',\n",
    "       'host_total_listings_count','neighbourhood_cleansed','zipcode',\n",
    "       'latitude','is_location_exact',\n",
    "       'longitude','property_type','room_type',\n",
    "       'accommodates','bathrooms','bedrooms','beds','price','guests_included','extra_people',\n",
    "       'minimum_nights','maximum_nights','availability_30',\n",
    "       'availability_60','availability_90','availability_365',\n",
    "       'number_of_reviews','instant_bookable','cancellation_policy']\n",
    "\n",
    "# Set target variable name\n",
    "target = 'host_is_superhost'"
   ]
  },
  {
   "cell_type": "code",
   "execution_count": 140,
   "metadata": {
    "collapsed": false
   },
   "outputs": [],
   "source": [
    "data2 = data[features+[target]]"
   ]
  },
  {
   "cell_type": "code",
   "execution_count": 141,
   "metadata": {
    "collapsed": false
   },
   "outputs": [],
   "source": [
    "data2 = data2.dropna()"
   ]
  },
  {
   "cell_type": "code",
   "execution_count": 142,
   "metadata": {
    "collapsed": false
   },
   "outputs": [],
   "source": [
    "diii = {\"t\": 1, \"f\": 0}\n",
    "\n",
    "data2 = data2.replace({'is_location_exact': diii})\n",
    "\n",
    "data2['is_location_exact'] = data2['is_location_exact'].astype(int)"
   ]
  },
  {
   "cell_type": "code",
   "execution_count": 143,
   "metadata": {
    "collapsed": true
   },
   "outputs": [],
   "source": [
    "dii = {\"t\": 1, \"f\": 0}\n",
    "\n",
    "data2 = data2.replace({'instant_bookable': dii})\n",
    "\n",
    "data2['instant_bookable'] = data2['instant_bookable'].astype(int)"
   ]
  },
  {
   "cell_type": "code",
   "execution_count": 144,
   "metadata": {
    "collapsed": false
   },
   "outputs": [],
   "source": [
    "di = {\"t\": 1, \"f\": 0}\n",
    "\n",
    "data2 = data2.replace({\"host_is_superhost\": di})\n",
    "\n",
    "data2['host_is_superhost'] = data2['host_is_superhost'].astype(int)"
   ]
  },
  {
   "cell_type": "code",
   "execution_count": 145,
   "metadata": {
    "collapsed": false
   },
   "outputs": [],
   "source": [
    "data2['price']=data2['price'].replace('[\\$,]', '', regex=True).astype(float)"
   ]
  },
  {
   "cell_type": "code",
   "execution_count": 146,
   "metadata": {
    "collapsed": true
   },
   "outputs": [],
   "source": [
    "data2['extra_people']=data2['extra_people'].replace('[\\$,]', '', regex=True).astype(float)"
   ]
  },
  {
   "cell_type": "code",
   "execution_count": 147,
   "metadata": {
    "collapsed": false
   },
   "outputs": [
    {
     "data": {
      "text/plain": [
       "<matplotlib.axes._subplots.AxesSubplot at 0x152a7bc10>"
      ]
     },
     "execution_count": 147,
     "metadata": {},
     "output_type": "execute_result"
    },
    {
     "data": {
      "image/png": "[encoded data removed]",
      "text/plain": [
       "<matplotlib.figure.Figure at 0x127d509d0>"
      ]
     },
     "metadata": {},
     "output_type": "display_data"
    }
   ],
   "source": [
    "data2['host_is_superhost'].hist()"
   ]
  },
  {
   "cell_type": "code",
   "execution_count": 148,
   "metadata": {
    "collapsed": false
   },
   "outputs": [],
   "source": [
    "data2_1 = data2[data2['host_is_superhost']==1]\n",
    "data2_2 = data2[data2['host_is_superhost']==0].sample(len(data2_1))\n",
    "\n",
    "data3 = pd.concat([data2_1, data2_2])"
   ]
  },
  {
   "cell_type": "code",
   "execution_count": 149,
   "metadata": {
    "collapsed": false
   },
   "outputs": [
    {
     "data": {
      "text/plain": [
       "<matplotlib.axes._subplots.AxesSubplot at 0x152a67690>"
      ]
     },
     "execution_count": 149,
     "metadata": {},
     "output_type": "execute_result"
    },
    {
     "data": {
      "image/png": "[encoded data removed]",
      "text/plain": [
       "<matplotlib.figure.Figure at 0x128329490>"
      ]
     },
     "metadata": {},
     "output_type": "display_data"
    }
   ],
   "source": [
    "data3['host_is_superhost'].hist()"
   ]
  },
  {
   "cell_type": "code",
   "execution_count": null,
   "metadata": {
    "collapsed": true
   },
   "outputs": [],
   "source": []
  },
  {
   "cell_type": "code",
   "execution_count": 150,
   "metadata": {
    "collapsed": false
   },
   "outputs": [
    {
     "data": {
      "text/plain": [
       "RandomForestClassifier(bootstrap=True, class_weight='balanced',\n",
       "            criterion='gini', max_depth=None, max_features='auto',\n",
       "            max_leaf_nodes=None, min_samples_leaf=10, min_samples_split=2,\n",
       "            min_weight_fraction_leaf=0.0, n_estimators=100, n_jobs=1,\n",
       "            oob_score=False, random_state=None, verbose=0,\n",
       "            warm_start=False)"
      ]
     },
     "execution_count": 150,
     "metadata": {},
     "output_type": "execute_result"
    }
   ],
   "source": [
    "from sklearn import ensemble\n",
    "\n",
    "# Set X and y\n",
    "X = data3[features]\n",
    "y = data3[target]\n",
    "\n",
    "# Create separate training and test sets with 60/40 train/test split\n",
    "X_train, X_test, y_train, y_test = cross_validation.train_test_split(X, y, test_size=0.4, random_state=42)\n",
    "\n",
    "# Instantiate model\n",
    "rf = ensemble.RandomForestClassifier(n_estimators=100, class_weight=\"balanced\", min_samples_leaf=10)\n",
    "# rf = ensemble.RandomForestClassifier(n_estimators=10)\n",
    "\n",
    "# Train model on training set\n",
    "rf.fit(X_train, y_train)"
   ]
  },
  {
   "cell_type": "code",
   "execution_count": 151,
   "metadata": {
    "collapsed": false
   },
   "outputs": [
    {
     "name": "stdout",
     "output_type": "stream",
     "text": [
      "Accuracy: 0.845\n",
      "Accuracy: 0.804\n",
      "ROC AUC: 0.883\n"
     ]
    }
   ],
   "source": [
    "# Evaluate model on train set\n",
    "print \"Accuracy: %0.3f\" % rf.score(X_train, y_train)\n",
    "\n",
    "# Evaluate model on test set\n",
    "print \"Accuracy: %0.3f\" % rf.score(X_test, y_test)\n",
    "\n",
    "# Evaluate ROC AUC score of model on test set\n",
    "print 'ROC AUC: %0.3f' % metrics.roc_auc_score(y_test, rf.predict_proba(X_test)[:,1])"
   ]
  },
  {
   "cell_type": "code",
   "execution_count": 152,
   "metadata": {
    "collapsed": false
   },
   "outputs": [
    {
     "data": {
      "text/plain": [
       "RandomForestClassifier(bootstrap=True, class_weight='balanced',\n",
       "            criterion='gini', max_depth=10, max_features='auto',\n",
       "            max_leaf_nodes=None, min_samples_leaf=3, min_samples_split=2,\n",
       "            min_weight_fraction_leaf=0.0, n_estimators=100, n_jobs=1,\n",
       "            oob_score=False, random_state=None, verbose=0,\n",
       "            warm_start=False)"
      ]
     },
     "execution_count": 152,
     "metadata": {},
     "output_type": "execute_result"
    }
   ],
   "source": [
    "from sklearn import ensemble\n",
    "\n",
    "# Set X and y\n",
    "X = data3[features]\n",
    "y = data3[target]\n",
    "\n",
    "# Create separate training and test sets with 60/40 train/test split\n",
    "X_train, X_test, y_train, y_test = cross_validation.train_test_split(X, y, test_size=0.4, random_state=42)\n",
    "\n",
    "# updated model\n",
    "rf = ensemble.RandomForestClassifier(n_estimators=100, class_weight=\"balanced\", max_depth=10, min_samples_leaf=3)\n",
    "# rf = ensemble.RandomForestClassifier(n_estimators=10)\n",
    "\n",
    "# Train model on training set\n",
    "rf.fit(X_train, y_train)"
   ]
  },
  {
   "cell_type": "code",
   "execution_count": 153,
   "metadata": {
    "collapsed": false
   },
   "outputs": [
    {
     "data": {
      "image/png": "[encoded data removed]",
      "text/plain": [
       "<matplotlib.figure.Figure at 0x1283fdb50>"
      ]
     },
     "metadata": {},
     "output_type": "display_data"
    },
    {
     "name": "stdout",
     "output_type": "stream",
     "text": [
      "Confusion Matrix:\n",
      "[[544 159]\n",
      " [ 98 647]]\n"
     ]
    }
   ],
   "source": [
    "# Get confusion matrix on test set\n",
    "y_pred = rf.predict(X_test)\n",
    "cm = metrics.confusion_matrix(y_test, y_pred)\n",
    "cm_normalized = cm.astype('float') / cm.sum(axis=1)[:, np.newaxis]\n",
    "\n",
    "ax = plt.axes()\n",
    "sns.heatmap(cm_normalized, annot=True)\n",
    "ax.set_ylabel('True')\n",
    "ax.set_xlabel('Pred')\n",
    "plt.show()\n",
    "\n",
    "print \"Confusion Matrix:\"\n",
    "print cm"
   ]
  },
  {
   "cell_type": "code",
   "execution_count": 154,
   "metadata": {
    "collapsed": false
   },
   "outputs": [
    {
     "data": {
      "text/plain": [
       "<matplotlib.axes._subplots.AxesSubplot at 0x1494ca250>"
      ]
     },
     "execution_count": 154,
     "metadata": {},
     "output_type": "execute_result"
    },
    {
     "data": {
      "image/png": "[encoded data removed]",
      "text/plain": [
       "<matplotlib.figure.Figure at 0x149df5d90>"
      ]
     },
     "metadata": {},
     "output_type": "display_data"
    }
   ],
   "source": [
    "# Plot importances for all features\n",
    "features = X.columns\n",
    "feature_importances = rf.feature_importances_\n",
    "\n",
    "features_df = pd.DataFrame({'Features': features, 'Importance Score': feature_importances})\n",
    "features_df.sort_values('Importance Score', inplace=True, ascending=False)\n",
    "\n",
    "sns.barplot(y='Features', x='Importance Score', data=features_df)"
   ]
  },
  {
   "cell_type": "code",
   "execution_count": 155,
   "metadata": {
    "collapsed": false
   },
   "outputs": [
    {
     "name": "stdout",
     "output_type": "stream",
     "text": [
      "i'm done\n"
     ]
    }
   ],
   "source": [
    "print \"i'm done\""
   ]
  },
  {
   "cell_type": "code",
   "execution_count": null,
   "metadata": {
    "collapsed": true
   },
   "outputs": [],
   "source": []
  },
  {
   "cell_type": "code",
   "execution_count": null,
   "metadata": {
    "collapsed": true
   },
   "outputs": [],
   "source": []
  },
  {
   "cell_type": "code",
   "execution_count": null,
   "metadata": {
    "collapsed": true
   },
   "outputs": [],
   "source": []
  },
  {
   "cell_type": "code",
   "execution_count": null,
   "metadata": {
    "collapsed": true
   },
   "outputs": [],
   "source": []
  },
  {
   "cell_type": "code",
   "execution_count": null,
   "metadata": {
    "collapsed": true
   },
   "outputs": [],
   "source": []
  }
 ],
 "metadata": {
  "kernelspec": {
   "display_name": "Python 2",
   "language": "python",
   "name": "python2"
  },
  "language_info": {
   "codemirror_mode": {
    "name": "ipython",
    "version": 2
   },
   "file_extension": ".py",
   "mimetype": "text/x-python",
   "name": "python",
   "nbconvert_exporter": "python",
   "pygments_lexer": "ipython2",
   "version": "2.7.11"
  }
 },
 "nbformat": 4,
 "nbformat_minor": 0
}
