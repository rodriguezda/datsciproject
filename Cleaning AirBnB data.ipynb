{
 "cells": [
  {
   "cell_type": "code",
   "execution_count": 29,
   "metadata": {
    "collapsed": true
   },
   "outputs": [],
   "source": [
    "import numpy as np\n",
    "import pandas as pd\n",
    "from sklearn import cross_validation\n",
    "from sklearn import neighbors\n",
    "from sklearn import grid_search\n",
    "from sklearn import metrics\n",
    "from sklearn import linear_model\n",
    "\n",
    "import seaborn as sns\n",
    "import matplotlib.pyplot as plt\n",
    "sns.set(style=\"whitegrid\", font_scale=1)\n",
    "%matplotlib inline"
   ]
  },
  {
   "cell_type": "code",
   "execution_count": 30,
   "metadata": {
    "collapsed": false
   },
   "outputs": [],
   "source": [
    "#acquire the data\n",
    "\n",
    "# Load data\n",
    "data = pd.read_csv('listings.csv',sep=',')\n"
   ]
  },
  {
   "cell_type": "code",
   "execution_count": 31,
   "metadata": {
    "collapsed": false
   },
   "outputs": [],
   "source": [
    "def wrangler(data):\n",
    "    data = data.drop([\"summary\",\"neighborhood_overview\",\"space\",\"description\",\"license\",\"jurisdiction_names\",\\\n",
    "                      \"has_availability\",\"scrape_id\",\"name\",\"summary\",\"space\",\"description\",\"experiences_offered\",\\\n",
    "                      \"neighborhood_overview\",\\\n",
    "\"notes\",\"transit\",\"access\",\"interaction\",\"house_rules\",\"thumbnail_url\",\"medium_url\",\"picture_url\",\"xl_picture_url\",\\\n",
    "\"host_url\",\"host_name\",\"host_location\",\"host_about\",\"host_response_time\",\"host_thumbnail_url\",\"host_picture_url\",\\\n",
    "\"host_neighbourhood\",\"host_verifications\",\"street\",\"neighbourhood\",\"square_feet\",\"calendar_updated\",\"calendar_last_scraped\",\\\n",
    "\"requires_license\",\"license\",\"jurisdiction_names\",\"require_guest_profile_picture\",\"require_guest_phone_verification\"], axis=1)\n",
    "\n",
    "   \n",
    "    return data"
   ]
  },
  {
   "cell_type": "code",
   "execution_count": 32,
   "metadata": {
    "collapsed": false
   },
   "outputs": [],
   "source": [
    "data = wrangler(data)"
   ]
  },
  {
   "cell_type": "code",
   "execution_count": 45,
   "metadata": {
    "collapsed": false
   },
   "outputs": [
    {
     "ename": "AttributeError",
     "evalue": "'numpy.int64' object has no attribute 'head'",
     "output_type": "error",
     "traceback": [
      "\u001b[0;31m---------------------------------------------------------------------------\u001b[0m",
      "\u001b[0;31mAttributeError\u001b[0m                            Traceback (most recent call last)",
      "\u001b[0;32m<ipython-input-45-ad9216ffee0e>\u001b[0m in \u001b[0;36m<module>\u001b[0;34m()\u001b[0m\n\u001b[0;32m----> 1\u001b[0;31m \u001b[0mdata\u001b[0m\u001b[0;34m.\u001b[0m\u001b[0mhead\u001b[0m\u001b[0;34m(\u001b[0m\u001b[0;36m5\u001b[0m\u001b[0;34m)\u001b[0m\u001b[0;34m\u001b[0m\u001b[0m\n\u001b[0m",
      "\u001b[0;31mAttributeError\u001b[0m: 'numpy.int64' object has no attribute 'head'"
     ]
    }
   ],
   "source": [
    "data.head(5)"
   ]
  },
  {
   "cell_type": "code",
   "execution_count": 42,
   "metadata": {
    "collapsed": false
   },
   "outputs": [],
   "source": [
    "#data = pd.Series([True, False, True]).sum()"
   ]
  },
  {
   "cell_type": "code",
   "execution_count": 43,
   "metadata": {
    "collapsed": false
   },
   "outputs": [
    {
     "ename": "AttributeError",
     "evalue": "'numpy.int64' object has no attribute 'head'",
     "output_type": "error",
     "traceback": [
      "\u001b[0;31m---------------------------------------------------------------------------\u001b[0m",
      "\u001b[0;31mAttributeError\u001b[0m                            Traceback (most recent call last)",
      "\u001b[0;32m<ipython-input-43-199065406915>\u001b[0m in \u001b[0;36m<module>\u001b[0;34m()\u001b[0m\n\u001b[0;32m----> 1\u001b[0;31m \u001b[0mdata\u001b[0m\u001b[0;34m.\u001b[0m\u001b[0mhead\u001b[0m\u001b[0;34m(\u001b[0m\u001b[0;34m)\u001b[0m\u001b[0;34m\u001b[0m\u001b[0m\n\u001b[0m",
      "\u001b[0;31mAttributeError\u001b[0m: 'numpy.int64' object has no attribute 'head'"
     ]
    }
   ],
   "source": [
    "#data.head()"
   ]
  },
  {
   "cell_type": "code",
   "execution_count": null,
   "metadata": {
    "collapsed": true
   },
   "outputs": [],
   "source": []
  },
  {
   "cell_type": "code",
   "execution_count": null,
   "metadata": {
    "collapsed": false
   },
   "outputs": [],
   "source": []
  },
  {
   "cell_type": "code",
   "execution_count": 46,
   "metadata": {
    "collapsed": false
   },
   "outputs": [
    {
     "ename": "AttributeError",
     "evalue": "'numpy.int64' object has no attribute 'head'",
     "output_type": "error",
     "traceback": [
      "\u001b[0;31m---------------------------------------------------------------------------\u001b[0m",
      "\u001b[0;31mAttributeError\u001b[0m                            Traceback (most recent call last)",
      "\u001b[0;32m<ipython-input-46-33786c8094ed>\u001b[0m in \u001b[0;36m<module>\u001b[0;34m()\u001b[0m\n\u001b[0;32m----> 1\u001b[0;31m \u001b[0mdata\u001b[0m\u001b[0;34m.\u001b[0m\u001b[0mhead\u001b[0m\u001b[0;34m(\u001b[0m\u001b[0;36m10\u001b[0m\u001b[0;34m)\u001b[0m\u001b[0;34m\u001b[0m\u001b[0m\n\u001b[0m",
      "\u001b[0;31mAttributeError\u001b[0m: 'numpy.int64' object has no attribute 'head'"
     ]
    }
   ],
   "source": [
    "data.head(10)"
   ]
  },
  {
   "cell_type": "code",
   "execution_count": 99,
   "metadata": {
    "collapsed": false
   },
   "outputs": [
    {
     "data": {
      "text/plain": [
       "count     36602\n",
       "unique        2\n",
       "top           f\n",
       "freq      34787\n",
       "Name: host_is_superhost, dtype: object"
      ]
     },
     "execution_count": 99,
     "metadata": {},
     "output_type": "execute_result"
    }
   ],
   "source": [
    "data['host_is_superhost'].describe()"
   ]
  },
  {
   "cell_type": "code",
   "execution_count": 57,
   "metadata": {
    "collapsed": false
   },
   "outputs": [
    {
     "name": "stdout",
     "output_type": "stream",
     "text": [
      "id                                    0\n",
      "listing_url                           0\n",
      "last_scraped                          0\n",
      "host_id                               0\n",
      "host_since                            6\n",
      "host_response_rate                 8179\n",
      "host_acceptance_rate               9906\n",
      "host_is_superhost                     6\n",
      "host_listings_count                   6\n",
      "host_total_listings_count             6\n",
      "host_has_profile_pic                  6\n",
      "host_identity_verified                6\n",
      "neighbourhood_cleansed                0\n",
      "neighbourhood_group_cleansed          0\n",
      "city                                 51\n",
      "state                                 2\n",
      "zipcode                             291\n",
      "market                              840\n",
      "smart_location                        0\n",
      "country_code                          0\n",
      "country                               0\n",
      "latitude                              0\n",
      "longitude                             0\n",
      "is_location_exact                     0\n",
      "property_type                         1\n",
      "room_type                             0\n",
      "accommodates                          0\n",
      "bathrooms                           216\n",
      "bedrooms                             63\n",
      "beds                                 59\n",
      "bed_type                              0\n",
      "amenities                             0\n",
      "price                                 0\n",
      "weekly_price                      24702\n",
      "monthly_price                     26778\n",
      "security_deposit                  20193\n",
      "cleaning_fee                      11758\n",
      "guests_included                       0\n",
      "extra_people                          0\n",
      "minimum_nights                        0\n",
      "maximum_nights                        0\n",
      "availability_30                       0\n",
      "availability_60                       0\n",
      "availability_90                       0\n",
      "availability_365                      0\n",
      "number_of_reviews                     0\n",
      "first_review                       9098\n",
      "last_review                        9098\n",
      "review_scores_rating               9806\n",
      "review_scores_accuracy             9929\n",
      "review_scores_cleanliness          9882\n",
      "review_scores_checkin              9926\n",
      "review_scores_communication        9872\n",
      "review_scores_location             9915\n",
      "review_scores_value                9916\n",
      "instant_bookable                      0\n",
      "cancellation_policy                   0\n",
      "calculated_host_listings_count        0\n",
      "reviews_per_month                  9098\n",
      "dtype: int64\n"
     ]
    }
   ],
   "source": [
    "print data.isnull().sum()"
   ]
  },
  {
   "cell_type": "code",
   "execution_count": null,
   "metadata": {
    "collapsed": true
   },
   "outputs": [],
   "source": [
    "# def wrangler(df):\n",
    "#     # Drop non-generic columns: PassengerId, Name, Ticket, and near-empty column Cabin\n",
    "#     df = df.drop(['scrape_id','last_scraped','experiences_offered','has_availability','license','jurisdiction_names', ''], axis=1)\n",
    "\n",
    "#     # Replace missing values for age using median value\n",
    "#     df.loc[(df['Age'].isnull()), 'Age'] = df['Age'].dropna().median()\n",
    "    \n",
    "#     # Replace missing values for Fare using median value (there are some missing in Kaggle's test set)\n",
    "#     df.loc[(df['Fare'].isnull()), 'Fare'] = df['Fare'].dropna().median()\n",
    "    \n",
    "#     # Replace missing values for embarked using mode value\n",
    "#     df.loc[(df['Embarked'].isnull()), 'Embarked'] = df['Embarked'].dropna().mode()\n",
    "    \n",
    "#     return df"
   ]
  },
  {
   "cell_type": "code",
   "execution_count": 48,
   "metadata": {
    "collapsed": false
   },
   "outputs": [
    {
     "data": {
      "text/plain": [
       "0"
      ]
     },
     "execution_count": 48,
     "metadata": {},
     "output_type": "execute_result"
    }
   ],
   "source": [
    "listings.isnull().sum()"
   ]
  },
  {
   "cell_type": "code",
   "execution_count": null,
   "metadata": {
    "collapsed": true
   },
   "outputs": [],
   "source": []
  }
 ],
 "metadata": {
  "kernelspec": {
   "display_name": "Python 2",
   "language": "python",
   "name": "python2"
  },
  "language_info": {
   "codemirror_mode": {
    "name": "ipython",
    "version": 2
   },
   "file_extension": ".py",
   "mimetype": "text/x-python",
   "name": "python",
   "nbconvert_exporter": "python",
   "pygments_lexer": "ipython2",
   "version": "2.7.11"
  }
 },
 "nbformat": 4,
 "nbformat_minor": 0
}
